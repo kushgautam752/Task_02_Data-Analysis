{
 "cells": [
  {
   "cell_type": "markdown",
   "id": "2cca1858",
   "metadata": {},
   "source": [
    "# Automated EDA Notebook\n",
    "\n",
    "This notebook was auto-generated on 2025-09-04 12:16:45.  \n",
    "It loads the dataset and performs a standard EDA with Pandas and Matplotlib.\n",
    "\n",
    "**Dataset**: `sample_retail_dataset.csv`\n"
   ]
  },
  {
   "cell_type": "code",
   "execution_count": null,
   "id": "e69f3049",
   "metadata": {},
   "outputs": [],
   "source": [
    "import io\n",
    "import numpy as np\n",
    "import pandas as pd\n",
    "import matplotlib.pyplot as plt\n",
    "from pandas.plotting import scatter_matrix\n",
    "\n",
    "csv_path = r'/mnt/data/sample_retail_dataset.csv'\n",
    "df = pd.read_csv(csv_path)\n"
   ]
  },
  {
   "cell_type": "code",
   "execution_count": null,
   "id": "f771a835",
   "metadata": {},
   "outputs": [],
   "source": [
    "# Overview\n",
    "buf = io.StringIO()\n",
    "df.info(buf=buf)\n",
    "print(buf.getvalue())\n",
    "\n",
    "display(df.head(5))\n",
    "\n",
    "numeric_cols = df.select_dtypes(include=[np.number]).columns.tolist()\n",
    "categorical_cols = df.select_dtypes(exclude=[np.number]).columns.tolist()\n",
    "\n",
    "print(\"Numeric columns:\", numeric_cols)\n",
    "print(\"Categorical columns:\", categorical_cols)\n",
    "\n",
    "df[numeric_cols].describe().T if numeric_cols else print(\"No numeric columns\")\n",
    "df[categorical_cols].describe().T if categorical_cols else print(\"No categorical columns\")\n",
    "\n",
    "print(\"\\nMissing values by column:\")\n",
    "print(df.isnull().sum().sort_values(ascending=False))\n"
   ]
  },
  {
   "cell_type": "code",
   "execution_count": null,
   "id": "74c08558",
   "metadata": {},
   "outputs": [],
   "source": [
    "# Missingness visuals\n",
    "plt.figure()\n",
    "plt.imshow(df.isnull(), aspect='auto', interpolation='nearest')\n",
    "plt.title('Missing Values Heatmap (True=missing)')\n",
    "plt.xlabel('Columns'); plt.ylabel('Rows'); plt.colorbar()\n",
    "plt.show()\n",
    "\n",
    "missing_pct = (df.isnull().mean() * 100).sort_values(ascending=False)\n",
    "plt.figure()\n",
    "missing_pct.head(20).plot(kind='bar')\n",
    "plt.title('Missingness by Column (Top 20) - %')\n",
    "plt.ylabel('% Missing')\n",
    "plt.show()\n"
   ]
  },
  {
   "cell_type": "code",
   "execution_count": null,
   "id": "212c5d0f",
   "metadata": {},
   "outputs": [],
   "source": [
    "# Distributions\n",
    "for col in numeric_cols[:8]:\n",
    "    plt.figure()\n",
    "    plt.hist(df[col].dropna(), bins=30)\n",
    "    plt.title(f'Histogram: {col}')\n",
    "    plt.xlabel(col); plt.ylabel('Frequency')\n",
    "    plt.show()\n",
    "\n",
    "for col in numeric_cols[:8]:\n",
    "    plt.figure()\n",
    "    plt.boxplot(df[col].dropna(), vert=True)\n",
    "    plt.title(f'Boxplot: {col}')\n",
    "    plt.ylabel(col)\n",
    "    plt.show()\n"
   ]
  },
  {
   "cell_type": "code",
   "execution_count": null,
   "id": "07e8caf4",
   "metadata": {},
   "outputs": [],
   "source": [
    "# Top categories\n",
    "for col in categorical_cols[:2]:\n",
    "    vc = df[col].value_counts().head(15)\n",
    "    plt.figure()\n",
    "    vc.plot(kind='bar')\n",
    "    plt.title(f'Top 15 categories: {col}')\n",
    "    plt.ylabel('Count')\n",
    "    plt.show()\n"
   ]
  },
  {
   "cell_type": "code",
   "execution_count": null,
   "id": "bd561a8b",
   "metadata": {},
   "outputs": [],
   "source": [
    "# Correlations and scatter matrix\n",
    "if len(numeric_cols) >= 2:\n",
    "    subset = numeric_cols[:5]\n",
    "    scatter_matrix(df[subset].dropna(), diagonal='hist', figsize=(12, 12))\n",
    "    plt.suptitle('Scatter Matrix (first 5 numeric columns)')\n",
    "    plt.show()\n",
    "\n",
    "corr = df[numeric_cols].corr() if numeric_cols else None\n",
    "if corr is not None:\n",
    "    plt.figure()\n",
    "    plt.imshow(corr, interpolation='nearest')\n",
    "    plt.title('Correlation Heatmap (Numeric)')\n",
    "    plt.xticks(range(len(corr.columns)), corr.columns, rotation=90)\n",
    "    plt.yticks(range(len(corr.index)), corr.index)\n",
    "    plt.colorbar()\n",
    "    plt.show()\n"
   ]
  },
  {
   "cell_type": "code",
   "execution_count": null,
   "id": "fd224875",
   "metadata": {},
   "outputs": [],
   "source": [
    "# Skewness and outliers (IQR)\n",
    "if numeric_cols:\n",
    "    print(\"Skewness:\")\n",
    "    print(df[numeric_cols].skew(numeric_only=True))\n",
    "\n",
    "    def iqr_outlier_count(s):\n",
    "        q1 = s.quantile(0.25)\n",
    "        q3 = s.quantile(0.75)\n",
    "        iqr = q3 - q1\n",
    "        lower, upper = q1 - 1.5*iqr, q3 + 1.5*iqr\n",
    "        return ((s < lower) | (s > upper)).sum()\n",
    "\n",
    "    outlier_counts = {col: iqr_outlier_count(df[col].dropna()) for col in numeric_cols}\n",
    "    print(\"\\nOutlier counts (IQR):\")\n",
    "    print(outlier_counts)\n"
   ]
  }
 ],
 "metadata": {
  "language_info": {
   "name": "python"
  }
 },
 "nbformat": 4,
 "nbformat_minor": 5
}
